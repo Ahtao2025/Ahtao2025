{
 "cells": [
  {
   "cell_type": "code",
   "execution_count": 6,
   "metadata": {},
   "outputs": [],
   "source": [
    "import numpy as np\n",
    "import pandas as pd\n",
    "from numpy.linalg import inv\n",
    "from sklearn.linear_model import LinearRegression\n"
   ]
  },
  {
   "cell_type": "code",
   "execution_count": 7,
   "metadata": {},
   "outputs": [
    {
     "name": "stdout",
     "output_type": "stream",
     "text": [
      "Bias (w0): 3.6136460266690675\n",
      "Coefficient (w1): 0.015325690386246565\n",
      "Coefficient (w2): 0.0002522764063409011\n",
      "Coefficient (w3): 0.0007203868499658928\n",
      "Coefficient (w4): 0.9991635645789791\n",
      "Coefficient (w5): 0.9997402360310119\n",
      "Coefficient (w6): 1.000623399358361\n",
      "Coefficient (w7): 0.9988323588429883\n",
      "Coefficient (w8): 1.0000013015236557\n",
      "Coefficient (w9): 1.0002245483558725\n",
      "Coefficient (w10): 0.9990396151482002\n",
      "Coefficient (w11): 0.999344846085944\n",
      "\n",
      "Predicted values for the test set:\n",
      "Prediction 1: -56.111296879584074\n",
      "Prediction 2: -173.516519709318\n",
      "Prediction 3: -6.770877912227078\n",
      "Prediction 4: 209.5170904418719\n",
      "Prediction 5: 116.89029785098515\n",
      "Prediction 6: -100.2908452723577\n",
      "Prediction 7: -310.1278390014484\n",
      "Prediction 8: 501.38630194260753\n",
      "Prediction 9: 244.11476780856395\n",
      "Prediction 10: 18.566393254550533\n"
     ]
    }
   ],
   "source": [
    "# Load training and test datasets\n",
    "train_data = np.loadtxt('Linear_regression.train.txt')\n",
    "test_data = np.loadtxt('linear_regression.test.txt')\n",
    "\n",
    "# Split training data into features and target\n",
    "X_train = train_data[:, :-1]  # First 11 columns are features\n",
    "y_train = train_data[:, -1]   #while the Last column is the target\n",
    "\n",
    "# Split test data into features\n",
    "X_test = test_data  # All columns are features (because target is not provided for the test set)\n",
    "\n",
    "model = LinearRegression() #create the linear regression model\n",
    "model.fit(X_train, y_train)# and then fit the datas into the model for training the model\n",
    "\n",
    "# Get the bias (intercept) and coefficients\n",
    "w0 = model.intercept_\n",
    "weights = model.coef_\n",
    "\n",
    "# Print the estimated parameters one by one\n",
    "print(f\"Bias (w0): {w0}\")\n",
    "for i, w in enumerate(weights, start=1):\n",
    "    print(f\"Coefficient (w{i}): {w}\")\n",
    "\n",
    "# Make predictions on the test set\n",
    "y_pred = model.predict(X_test)\n",
    "\n",
    "# Print the predicted values for the test set\n",
    "print(\"\\nPredicted values for the test set:\")\n",
    "for i, pred in enumerate(y_pred, start=1):\n",
    "    print(f\"Prediction {i}: {pred}\")"
   ]
  },
  {
   "cell_type": "code",
   "execution_count": 8,
   "metadata": {},
   "outputs": [
    {
     "name": "stdout",
     "output_type": "stream",
     "text": [
      "Bias (w0): 3.6136460266689445\n",
      "Coefficient (w1): 0.015325690386246508\n",
      "Coefficient (w2): 0.00025227640634080395\n",
      "Coefficient (w3): 0.0007203868499649786\n",
      "Coefficient (w4): 0.9991635645789787\n",
      "Coefficient (w5): 0.999740236031012\n",
      "Coefficient (w6): 1.0006233993583618\n",
      "Coefficient (w7): 0.9988323588429896\n",
      "Coefficient (w8): 1.0000013015236555\n",
      "Coefficient (w9): 1.0002245483558734\n",
      "Coefficient (w10): 0.999039615148201\n",
      "Coefficient (w11): 0.9993448460859442\n",
      "\n",
      "Predicted values for the test set:\n",
      "Prediction 1: -56.11129687958436\n",
      "Prediction 2: -173.51651970931823\n",
      "Prediction 3: -6.770877912226922\n",
      "Prediction 4: 209.51709044187186\n",
      "Prediction 5: 116.89029785098508\n",
      "Prediction 6: -100.29084527235774\n",
      "Prediction 7: -310.1278390014488\n",
      "Prediction 8: 501.3863019426077\n",
      "Prediction 9: 244.11476780856373\n",
      "Prediction 10: 18.566393254550384\n"
     ]
    }
   ],
   "source": [
    "# Load training and test datasets\n",
    "train_data = np.loadtxt('linear_regression.train.txt')\n",
    "test_data = np.loadtxt('linear_regression.test.txt')\n",
    "\n",
    "# Split training data into features and target\n",
    "X_train = train_data[:, :-1]  # First 11 columns are features\n",
    "y_train = train_data[:, -1]   # Last column is the target\n",
    "\n",
    "# Split test data into features\n",
    "X_test = test_data  # All columns are features (since target is not provided for the test set)\n",
    "\n",
    "# Manually add a column of ones to X_train and X_test for the bias term\n",
    "X_train_with_bias = np.c_[np.ones(X_train.shape[0]), X_train]\n",
    "X_test_with_bias = np.c_[np.ones(X_test.shape[0]), X_test]\n",
    "\n",
    "# calculate weights by using the Normal Equation: w = (X^T * X)^(-1) * X^T * y\n",
    "XTX_inv = inv(X_train_with_bias.T @ X_train_with_bias)\n",
    "w = XTX_inv @ X_train_with_bias.T @ y_train\n",
    "\n",
    "# Extract bias and coefficients from w\n",
    "w0 = w[0]\n",
    "weights = w[1:]\n",
    "\n",
    "# Print the estimated parameters\n",
    "print(f\"Bias (w0): {w0}\")\n",
    "for i, weight in enumerate(weights, start=1):\n",
    "    print(f\"Coefficient (w{i}): {weight}\")\n",
    "\n",
    "# Make predictions on the test set\n",
    "y_pred = X_test_with_bias @ w\n",
    "\n",
    "# Print the predicted values for the test set\n",
    "print(\"\\nPredicted values for the test set:\")\n",
    "for i, pred in enumerate(y_pred, start=1):\n",
    "    print(f\"Prediction {i}: {pred}\")"
   ]
  }
 ],
 "metadata": {
  "kernelspec": {
   "display_name": "Python 3",
   "language": "python",
   "name": "python3"
  },
  "language_info": {
   "codemirror_mode": {
    "name": "ipython",
    "version": 3
   },
   "file_extension": ".py",
   "mimetype": "text/x-python",
   "name": "python",
   "nbconvert_exporter": "python",
   "pygments_lexer": "ipython3",
   "version": "3.10.8"
  }
 },
 "nbformat": 4,
 "nbformat_minor": 2
}
