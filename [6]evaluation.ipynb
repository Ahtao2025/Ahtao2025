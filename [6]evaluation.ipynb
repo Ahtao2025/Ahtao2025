{
 "cells": [
  {
   "cell_type": "markdown",
   "metadata": {},
   "source": [
    "## Evaluation ##\n",
    "By the information provided by the elbow method, I selected 4,6,8,10,12 to be as the number of clusters since they are located on the elbow point in the graph. Then I implemented the GMM clustering, and then by plotting the clustering results and comparing the silhouetee score, I finally divided data into 4 clusters as it has the largest silhouette score."
   ]
  }
 ],
 "metadata": {
  "kernelspec": {
   "display_name": "Python 3",
   "language": "python",
   "name": "python3"
  },
  "language_info": {
   "codemirror_mode": {
    "name": "ipython",
    "version": 3
   },
   "file_extension": ".py",
   "mimetype": "text/x-python",
   "name": "python",
   "nbconvert_exporter": "python",
   "pygments_lexer": "ipython3",
   "version": "3.10.8"
  }
 },
 "nbformat": 4,
 "nbformat_minor": 2
}
